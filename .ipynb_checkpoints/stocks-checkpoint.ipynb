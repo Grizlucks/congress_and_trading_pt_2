{
 "cells": [
  {
   "cell_type": "markdown",
   "metadata": {},
   "source": [
    "# Stock Trades by Members of the US House of Representatives\n",
    "\n",
    "* **See the main project notebook for instructions to be sure you satisfy the rubric!**\n",
    "* See Project 03 for information on the dataset.\n",
    "* A few example prediction questions to pursue are listed below. However, don't limit yourself to them!\n",
    "    - Can you predict the party affiliation of a representative from their stock trades?\n",
    "    - Can you predict the geographic region that the representative comes from using their stock trades? E.g., west coast, east coast, south, etc.\n",
    "    * Can you predict whether a particular trade is a BUY or SELL?\n",
    "\n",
    "Be careful to justify what information you would know at the \"time of prediction\" and train your model using only those features."
   ]
  },
  {
   "cell_type": "markdown",
   "metadata": {},
   "source": [
    "# Summary of Findings\n",
    "\n",
    "\n",
    "### Introduction\n",
    "Our dataset was downloaded from https://housestockwatcher.com/api, a public project created by whistleblowers that reports all stock transactions made by US House representatives and contains information about these transactions from 2020-01-02 to 2021-11-02. After the work we did on this dataset during a statistical analysis, we were left with the assumption that there was not a major difference between Democrats and Republicans as far as financial habits were concerned. However we would like to further test this theory. Is it really true that there is no difference at all between how each party trades? This is the prediction problem we are trying to solve; predict a trade's political affiliation by looking at features such as 'owner' (who owns the account that makes the trade), 'state', (which state the trader represents), 'ticker', the ticker that they're trading, and several more features. The variable we'll be predicting is 'party', the political affiliation of the person making the trade, and our estimator will be accuracy since there is no large imbalance of the trades made by either party. Although Libertarians are not well represented, and accuracy would not reflect them very effectively, we aren't too interested in correctly classifying the single Libertarian in the House of Representatives. That being said, although accuracy will be our primary evaluation metric, we will consider the F1 score, and the Sensitivity of our model as well.\n",
    "\n",
    "### Cleaning and EDA\n",
    "Our cleaning of the original dataset took place in the following steps:\n",
    "1. Replace all the fake missing values with real missing values with pd.replace\n",
    "2. Hand fill inaccurate dates by visiting the disclosure PDFs linked in the dataset and found on the House website, using pd.at\n",
    "3. Convert dates to real pd.Timestamps using pd.to_datetime\n",
    "4. Hand fill 4 trivial missing asset descriptions with pd.at\n",
    "5. Merge in a dataframe with the political affiliation and consistent name of each representative (generated through webscraping Congress website which allows webscraping:  https://www.congress.gov/robots.txt)\n",
    "6. Create numerical column from 'amount' by taking the minimum of every categorical range\n",
    "7. String clean 'asset_description' column\n",
    "\n",
    "There are two weaknesses of the data-generating process that will carry over to our modeling and analysis. These are the fact that we weren't able to canonicalize the asset_descriptions into consistent values, and that the numerical column only contains minimums which may not be a good representation of the actual trade dollar values. The former is because of the sheer diversity of assets purchased by the US House representatives, and the latter is because the 'amount' is a human filled categorical column with inconsistent representations of the trade value (such as '1001-', '1001-50000', and '1001-15000'), all of which have a minimum value of '1001' but no consistent maximum value, thus making it impossible to ascertain the actual differences in values of these types of trades.\n",
    "\n",
    "### Baseline Model\n",
    "TODO\n",
    "\n",
    "### Final Model\n",
    "TODO\n",
    "\n",
    "### Fairness Evaluation\n",
    "TODO"
   ]
  },
  {
   "cell_type": "markdown",
   "metadata": {},
   "source": [
    "# Code"
   ]
  },
  {
   "cell_type": "code",
   "execution_count": 28,
   "metadata": {},
   "outputs": [],
   "source": [
    "import matplotlib.pyplot as plt\n",
    "import numpy as np\n",
    "import os\n",
    "import pandas as pd\n",
    "import seaborn as sns\n",
    "%matplotlib inline\n",
    "%config InlineBackend.figure_format = 'retina'  # Higher resolution figures"
   ]
  },
  {
   "cell_type": "markdown",
   "metadata": {},
   "source": [
    "### Cleaning and EDA"
   ]
  },
  {
   "cell_type": "markdown",
   "metadata": {},
   "source": [
    "Since this project is based on a dataset that we have already cleaned, we will demonstrate the messiness of the uncleaned dataset and explain the steps we took to clean it in this section. The initial csv we started with was downloaded from  https://housestockwatcher.com/api, a public project created by whistleblowers that reports all stock transactions made by US House representatives. Our dataset contains information about these transactions from 2020-01-02 to 2021-11-02. "
   ]
  },
  {
   "cell_type": "code",
   "execution_count": 29,
   "metadata": {},
   "outputs": [],
   "source": [
    "og_fp = os.path.join('data/', 'all_transactions.csv')\n",
    "new_fp = os.path.join('data/', 'clean_transactions.csv')\n",
    "unclean_transactions = pd.read_csv(og_fp)\n",
    "transactions = pd.read_csv(new_fp, index_col=0)"
   ]
  },
  {
   "cell_type": "markdown",
   "metadata": {},
   "source": [
    "Below one can see a sample of the messy initial dataset. Particularly messy standouts include some misreported disclosure dates, an inconsistent categorical column in 'amount', inconsistent names in the 'representative' column, and fake nans in the form of '-''s."
   ]
  },
  {
   "cell_type": "code",
   "execution_count": 30,
   "metadata": {},
   "outputs": [
    {
     "data": {
      "text/html": [
       "<div>\n",
       "<style scoped>\n",
       "    .dataframe tbody tr th:only-of-type {\n",
       "        vertical-align: middle;\n",
       "    }\n",
       "\n",
       "    .dataframe tbody tr th {\n",
       "        vertical-align: top;\n",
       "    }\n",
       "\n",
       "    .dataframe thead th {\n",
       "        text-align: right;\n",
       "    }\n",
       "</style>\n",
       "<table border=\"1\" class=\"dataframe\">\n",
       "  <thead>\n",
       "    <tr style=\"text-align: right;\">\n",
       "      <th></th>\n",
       "      <th>disclosure_year</th>\n",
       "      <th>disclosure_date</th>\n",
       "      <th>transaction_date</th>\n",
       "      <th>owner</th>\n",
       "      <th>ticker</th>\n",
       "      <th>asset_description</th>\n",
       "      <th>type</th>\n",
       "      <th>amount</th>\n",
       "      <th>representative</th>\n",
       "      <th>district</th>\n",
       "      <th>ptr_link</th>\n",
       "      <th>cap_gains_over_200_usd</th>\n",
       "    </tr>\n",
       "  </thead>\n",
       "  <tbody>\n",
       "    <tr>\n",
       "      <th>0</th>\n",
       "      <td>2021</td>\n",
       "      <td>10/04/2021</td>\n",
       "      <td>2021-09-27</td>\n",
       "      <td>joint</td>\n",
       "      <td>BP</td>\n",
       "      <td>BP plc</td>\n",
       "      <td>purchase</td>\n",
       "      <td>$1,001 - $15,000</td>\n",
       "      <td>Hon. Virginia Foxx</td>\n",
       "      <td>NC05</td>\n",
       "      <td>https://disclosures-clerk.house.gov/public_dis...</td>\n",
       "      <td>False</td>\n",
       "    </tr>\n",
       "  </tbody>\n",
       "</table>\n",
       "</div>"
      ],
      "text/plain": [
       "   disclosure_year disclosure_date transaction_date  owner ticker  \\\n",
       "0             2021      10/04/2021       2021-09-27  joint     BP   \n",
       "\n",
       "  asset_description      type            amount      representative district  \\\n",
       "0            BP plc  purchase  $1,001 - $15,000  Hon. Virginia Foxx     NC05   \n",
       "\n",
       "                                            ptr_link  cap_gains_over_200_usd  \n",
       "0  https://disclosures-clerk.house.gov/public_dis...                   False  "
      ]
     },
     "execution_count": 30,
     "metadata": {},
     "output_type": "execute_result"
    }
   ],
   "source": [
    "unclean_transactions.head(1)"
   ]
  },
  {
   "cell_type": "markdown",
   "metadata": {},
   "source": [
    "Our cleaning addresses most of these problems and also adds to our dataset a feature that contains the party affiliation of each representative. The only thing that we were not able to clean particularly effectively was the 'asset_description' feature, since the variability in naming is much more prevalent than that of the 'representative' feature. One can see a sample of this new cleaned dataset below:"
   ]
  },
  {
   "cell_type": "code",
   "execution_count": 31,
   "metadata": {},
   "outputs": [
    {
     "data": {
      "text/html": [
       "<div>\n",
       "<style scoped>\n",
       "    .dataframe tbody tr th:only-of-type {\n",
       "        vertical-align: middle;\n",
       "    }\n",
       "\n",
       "    .dataframe tbody tr th {\n",
       "        vertical-align: top;\n",
       "    }\n",
       "\n",
       "    .dataframe thead th {\n",
       "        text-align: right;\n",
       "    }\n",
       "</style>\n",
       "<table border=\"1\" class=\"dataframe\">\n",
       "  <thead>\n",
       "    <tr style=\"text-align: right;\">\n",
       "      <th></th>\n",
       "      <th>disclosure_year</th>\n",
       "      <th>disclosure_date</th>\n",
       "      <th>transaction_date</th>\n",
       "      <th>owner</th>\n",
       "      <th>ticker</th>\n",
       "      <th>asset_description</th>\n",
       "      <th>type</th>\n",
       "      <th>amount</th>\n",
       "      <th>representative</th>\n",
       "      <th>district</th>\n",
       "      <th>ptr_link</th>\n",
       "      <th>cap_gains_over_200_usd</th>\n",
       "      <th>name</th>\n",
       "      <th>party</th>\n",
       "      <th>min_value</th>\n",
       "    </tr>\n",
       "  </thead>\n",
       "  <tbody>\n",
       "    <tr>\n",
       "      <th>0</th>\n",
       "      <td>2021</td>\n",
       "      <td>2021-10-04</td>\n",
       "      <td>2021-09-27</td>\n",
       "      <td>joint</td>\n",
       "      <td>BP</td>\n",
       "      <td>bp plc</td>\n",
       "      <td>purchase</td>\n",
       "      <td>$1,001 - $15,000</td>\n",
       "      <td>Hon. Virginia Foxx</td>\n",
       "      <td>NC05</td>\n",
       "      <td>https://disclosures-clerk.house.gov/public_dis...</td>\n",
       "      <td>False</td>\n",
       "      <td>Foxx, Virginia</td>\n",
       "      <td>Republican</td>\n",
       "      <td>1001</td>\n",
       "    </tr>\n",
       "  </tbody>\n",
       "</table>\n",
       "</div>"
      ],
      "text/plain": [
       "   disclosure_year disclosure_date transaction_date  owner ticker  \\\n",
       "0             2021      2021-10-04       2021-09-27  joint     BP   \n",
       "\n",
       "  asset_description      type            amount      representative district  \\\n",
       "0            bp plc  purchase  $1,001 - $15,000  Hon. Virginia Foxx     NC05   \n",
       "\n",
       "                                            ptr_link  cap_gains_over_200_usd  \\\n",
       "0  https://disclosures-clerk.house.gov/public_dis...                   False   \n",
       "\n",
       "             name       party  min_value  \n",
       "0  Foxx, Virginia  Republican       1001  "
      ]
     },
     "execution_count": 31,
     "metadata": {},
     "output_type": "execute_result"
    }
   ],
   "source": [
    "transactions.head(1)"
   ]
  },
  {
   "cell_type": "markdown",
   "metadata": {},
   "source": [
    "To ensure the efficacy of our name cleaning, we chose to leave in the original messy 'representative' column in addition to our new cleaned 'name' column (both of these features contain the same information about the name of the representative). The only thing we're missing is the title of the representatives, but we deal with this below:"
   ]
  },
  {
   "cell_type": "markdown",
   "metadata": {},
   "source": [
    "Interestingly we noticed that exactly 6 representatives have a title of 'None'. After doing some research we realized that this title is erroneous, and is better replaced by the actual title of 'Hon.' This is for two reasons: One, this is their actual title, and two, there aren't enough 'None', 'Mr.', 'Mrs.' titles to lead to an actual predictive model. Training on such a small sample would likely lead to memorization and not prediction. Since this is the case it may be better to omit the title column as a whole."
   ]
  },
  {
   "cell_type": "code",
   "execution_count": 32,
   "metadata": {},
   "outputs": [
    {
     "data": {
      "text/plain": [
       "array(['Manning, Kathy E.', 'Hinson, Ashley', 'Ross, Deborah K.',\n",
       "       'Jacobs, Sara', 'Newman, Marie', 'Spartz, Victoria'], dtype=object)"
      ]
     },
     "execution_count": 32,
     "metadata": {},
     "output_type": "execute_result"
    }
   ],
   "source": [
    "titles = transactions['representative'].str.split(' ').str[0]\n",
    "w_title = transactions.assign(titles=titles)\n",
    "w_title[w_title['titles'] == 'None']['name'].unique()"
   ]
  },
  {
   "cell_type": "code",
   "execution_count": 33,
   "metadata": {},
   "outputs": [
    {
     "data": {
      "text/plain": [
       "Hon.    0.965344\n",
       "Mr.     0.021700\n",
       "None    0.010445\n",
       "Mrs.    0.002510\n",
       "Name: representative, dtype: float64"
      ]
     },
     "execution_count": 33,
     "metadata": {},
     "output_type": "execute_result"
    }
   ],
   "source": [
    "titles.value_counts(normalize=True)"
   ]
  },
  {
   "cell_type": "code",
   "execution_count": 34,
   "metadata": {},
   "outputs": [],
   "source": [
    "transactions = transactions.drop(columns='representative')"
   ]
  },
  {
   "cell_type": "markdown",
   "metadata": {},
   "source": [
    "Since we'll be modeling on this dataset at some point it would be more prudent to fill nan values now. There are no solidly numerical columns in our data that have nans, so we can just fill the entire dataset's nans with '-'. This is proven below:"
   ]
  },
  {
   "cell_type": "code",
   "execution_count": 35,
   "metadata": {},
   "outputs": [
    {
     "data": {
      "text/plain": [
       "disclosure_year              0\n",
       "disclosure_date              0\n",
       "transaction_date             0\n",
       "owner                     5844\n",
       "ticker                    1023\n",
       "asset_description            0\n",
       "type                         0\n",
       "amount                       0\n",
       "district                     0\n",
       "ptr_link                     0\n",
       "cap_gains_over_200_usd       0\n",
       "name                         0\n",
       "party                        0\n",
       "min_value                    0\n",
       "dtype: int64"
      ]
     },
     "execution_count": 35,
     "metadata": {},
     "output_type": "execute_result"
    }
   ],
   "source": [
    "transactions.isna().sum()"
   ]
  },
  {
   "cell_type": "code",
   "execution_count": 36,
   "metadata": {},
   "outputs": [],
   "source": [
    "transactions = transactions.fillna('-')"
   ]
  },
  {
   "cell_type": "markdown",
   "metadata": {},
   "source": [
    "In order to completely understand our missingness from a party de-aggregate perspective, below we show two histograms that demonstrate the distribution of ownership (one of the two features with missingness) for each party."
   ]
  },
  {
   "cell_type": "code",
   "execution_count": 37,
   "metadata": {},
   "outputs": [
    {
     "data": {
      "text/plain": [
       "[Text(0.5, 1.0, 'Democratic Account Ownership Distribution')]"
      ]
     },
     "execution_count": 37,
     "metadata": {},
     "output_type": "execute_result"
    },
    {
     "data": {
      "image/png": "[encoded data removed]",
      "text/plain": [
       "<Figure size 864x432 with 2 Axes>"
      ]
     },
     "metadata": {
      "image/png": {
       "height": 386,
       "width": 720
      },
      "needs_background": "light"
     },
     "output_type": "display_data"
    }
   ],
   "source": [
    "fig, (ax1, ax2) = plt.subplots(ncols=2, sharey=True,figsize=(12,6))\n",
    "sns.histplot(data=transactions[transactions['party'] == 'Republican'], x='owner', ax=ax1, stat='density')\n",
    "sns.histplot(data=transactions[transactions['party'] == 'Democratic'], x='owner', ax=ax2, stat='density')\n",
    "ax1.set(title='Republican Account Ownership Distribution')\n",
    "ax2.set(title='Democratic Account Ownership Distribution')"
   ]
  },
  {
   "cell_type": "markdown",
   "metadata": {},
   "source": [
    "In the below cell we analyze the missingness of ticker from a party perspective. Our analysis demonstrates that it is about equally missing for both parties (7.8% vs 9.2%) which means that it likely will not serve as a strong predictor of party affiliation."
   ]
  },
  {
   "cell_type": "code",
   "execution_count": 38,
   "metadata": {},
   "outputs": [
    {
     "data": {
      "text/plain": [
       "party        ticker\n",
       "Libertarian  DIS       1.000000\n",
       "Republican   -         0.092325\n",
       "Democratic   -         0.077555\n",
       "Republican   NTAP      0.023251\n",
       "Democratic   MSFT      0.019578\n",
       "             TDDXX     0.014020\n",
       "Republican   AAPL      0.013093\n",
       "Democratic   RUN       0.011747\n",
       "             AAPL      0.011368\n",
       "Republican   AMZN      0.010835\n",
       "Name: ticker, dtype: float64"
      ]
     },
     "execution_count": 38,
     "metadata": {},
     "output_type": "execute_result"
    }
   ],
   "source": [
    "transactions.groupby('party')['ticker'].value_counts(normalize=True).sort_values(ascending=False)[0:10]"
   ]
  },
  {
   "cell_type": "markdown",
   "metadata": {},
   "source": [
    "In the below cell we calculate the percentage of the dataset that belongs to each party. This is done in order to demonstrate why accuracy can serve as a good evaluation metric. Although Libertarians are not well represented, and accuracy would not reflect them very effectively, we aren't too interested in correctly classifying the single Libertarian in the House of Representatives."
   ]
  },
  {
   "cell_type": "code",
   "execution_count": 39,
   "metadata": {},
   "outputs": [
    {
     "data": {
      "text/plain": [
       "party\n",
       "Democratic     0.641053\n",
       "Libertarian    0.000243\n",
       "Republican     0.358704\n",
       "Name: amount, dtype: float64"
      ]
     },
     "execution_count": 39,
     "metadata": {},
     "output_type": "execute_result"
    }
   ],
   "source": [
    "transactions.groupby('party').count()['amount']/transactions.shape[0]"
   ]
  },
  {
   "cell_type": "markdown",
   "metadata": {},
   "source": [
    "Before we can get into feature engineering we have to drop some of the more granular features in our dataset. Since we're trying to predict a trader's political affiliation based solely on their trading data, it would be disingenuous to predict on unique or nigh-unique identifiers that exist in our dataset. These are features like 'ptr_link', unique for each set of trades, 'district', almost unique to every representative, and 'name', unique to each representative."
   ]
  },
  {
   "cell_type": "code",
   "execution_count": 40,
   "metadata": {},
   "outputs": [],
   "source": [
    "# drop ptr_link, district, name, party\n",
    "state = transactions['district'].str.slice(0, 2)\n",
    "transactions = transactions.assign(state=state)"
   ]
  },
  {
   "cell_type": "code",
   "execution_count": 41,
   "metadata": {},
   "outputs": [],
   "source": [
    "transactions = transactions.drop(columns=['ptr_link', 'district', 'name'])"
   ]
  },
  {
   "cell_type": "code",
   "execution_count": 49,
   "metadata": {},
   "outputs": [
    {
     "data": {
      "text/plain": [
       "6127             inc\n",
       "5355             inc\n",
       "5959          vertex\n",
       "10028               \n",
       "7072                \n",
       "1669             inc\n",
       "5083              34\n",
       "6168     corporation\n",
       "8537             inc\n",
       "6809             inc\n",
       "Name: asset_description, dtype: object"
      ]
     },
     "execution_count": 49,
     "metadata": {},
     "output_type": "execute_result"
    }
   ],
   "source": [
    "(transactions['asset_description'].str.split(' ').str[-1]).unique()"
   ]
  },
  {
   "cell_type": "markdown",
   "metadata": {},
   "source": [
    "### Baseline Model"
   ]
  },
  {
   "cell_type": "code",
   "execution_count": null,
   "metadata": {},
   "outputs": [],
   "source": []
  },
  {
   "cell_type": "markdown",
   "metadata": {},
   "source": [
    "### Final Model"
   ]
  },
  {
   "cell_type": "code",
   "execution_count": 3,
   "metadata": {},
   "outputs": [],
   "source": [
    "# TODO"
   ]
  },
  {
   "cell_type": "markdown",
   "metadata": {},
   "source": [
    "### Fairness Evaluation"
   ]
  },
  {
   "cell_type": "code",
   "execution_count": 4,
   "metadata": {},
   "outputs": [],
   "source": [
    "# TODO"
   ]
  }
 ],
 "metadata": {
  "kernelspec": {
   "display_name": "Python 3 (ipykernel)",
   "language": "python",
   "name": "python3"
  },
  "language_info": {
   "codemirror_mode": {
    "name": "ipython",
    "version": 3
   },
   "file_extension": ".py",
   "mimetype": "text/x-python",
   "name": "python",
   "nbconvert_exporter": "python",
   "pygments_lexer": "ipython3",
   "version": "3.9.7"
  }
 },
 "nbformat": 4,
 "nbformat_minor": 2
}
